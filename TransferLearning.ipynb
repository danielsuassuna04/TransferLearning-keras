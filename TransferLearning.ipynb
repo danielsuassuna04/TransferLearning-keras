{
  "cells": [
    {
      "cell_type": "markdown",
      "metadata": {
        "id": "view-in-github",
        "colab_type": "text"
      },
      "source": [
        "<a href=\"https://colab.research.google.com/github/danielsuassuna04/TransferLearning-keras/blob/main/TransferLearning.ipynb\" target=\"_parent\"><img src=\"https://colab.research.google.com/assets/colab-badge.svg\" alt=\"Open In Colab\"/></a>"
      ]
    },
    {
      "cell_type": "code",
      "execution_count": null,
      "metadata": {
        "colab": {
          "base_uri": "https://localhost:8080/"
        },
        "id": "IIkK7c9Yaw5I",
        "outputId": "e20b80a7-0318-45aa-a6e8-14d4be7b9eef"
      },
      "outputs": [
        {
          "name": "stderr",
          "output_type": "stream",
          "text": [
            "2024-09-19 08:41:56.938386: E external/local_xla/xla/stream_executor/cuda/cuda_dnn.cc:9261] Unable to register cuDNN factory: Attempting to register factory for plugin cuDNN when one has already been registered\n",
            "2024-09-19 08:41:56.938533: E external/local_xla/xla/stream_executor/cuda/cuda_fft.cc:607] Unable to register cuFFT factory: Attempting to register factory for plugin cuFFT when one has already been registered\n",
            "2024-09-19 08:41:57.072208: E external/local_xla/xla/stream_executor/cuda/cuda_blas.cc:1515] Unable to register cuBLAS factory: Attempting to register factory for plugin cuBLAS when one has already been registered\n",
            "2024-09-19 08:41:57.325217: I tensorflow/core/platform/cpu_feature_guard.cc:182] This TensorFlow binary is optimized to use available CPU instructions in performance-critical operations.\n",
            "To enable the following instructions: AVX2 FMA, in other operations, rebuild TensorFlow with the appropriate compiler flags.\n",
            "2024-09-19 08:41:58.987763: W tensorflow/compiler/tf2tensorrt/utils/py_utils.cc:38] TF-TRT Warning: Could not find TensorRT\n"
          ]
        }
      ],
      "source": [
        "import tensorflow as tf\n",
        "import tensorflow as tf\n",
        "from tensorflow import keras"
      ]
    },
    {
      "cell_type": "code",
      "execution_count": null,
      "metadata": {
        "colab": {
          "base_uri": "https://localhost:8080/"
        },
        "id": "EDg4MlHYbqCU",
        "outputId": "1615f88d-0c13-4e27-b3d4-3faceca8b92d"
      },
      "outputs": [
        {
          "name": "stdout",
          "output_type": "stream",
          "text": [
            "Downloading data from https://www.cs.toronto.edu/~kriz/cifar-10-python.tar.gz\n",
            "170498071/170498071 [==============================] - 2s 0us/step\n"
          ]
        },
        {
          "name": "stderr",
          "output_type": "stream",
          "text": [
            "2024-09-19 08:42:05.911697: I external/local_xla/xla/stream_executor/cuda/cuda_executor.cc:901] successful NUMA node read from SysFS had negative value (-1), but there must be at least one NUMA node, so returning NUMA node zero. See more at https://github.com/torvalds/linux/blob/v6.0/Documentation/ABI/testing/sysfs-bus-pci#L344-L355\n",
            "2024-09-19 08:42:06.015849: I external/local_xla/xla/stream_executor/cuda/cuda_executor.cc:901] successful NUMA node read from SysFS had negative value (-1), but there must be at least one NUMA node, so returning NUMA node zero. See more at https://github.com/torvalds/linux/blob/v6.0/Documentation/ABI/testing/sysfs-bus-pci#L344-L355\n",
            "2024-09-19 08:42:06.016012: I external/local_xla/xla/stream_executor/cuda/cuda_executor.cc:901] successful NUMA node read from SysFS had negative value (-1), but there must be at least one NUMA node, so returning NUMA node zero. See more at https://github.com/torvalds/linux/blob/v6.0/Documentation/ABI/testing/sysfs-bus-pci#L344-L355\n",
            "2024-09-19 08:42:06.018420: I external/local_xla/xla/stream_executor/cuda/cuda_executor.cc:901] successful NUMA node read from SysFS had negative value (-1), but there must be at least one NUMA node, so returning NUMA node zero. See more at https://github.com/torvalds/linux/blob/v6.0/Documentation/ABI/testing/sysfs-bus-pci#L344-L355\n",
            "2024-09-19 08:42:06.018578: I external/local_xla/xla/stream_executor/cuda/cuda_executor.cc:901] successful NUMA node read from SysFS had negative value (-1), but there must be at least one NUMA node, so returning NUMA node zero. See more at https://github.com/torvalds/linux/blob/v6.0/Documentation/ABI/testing/sysfs-bus-pci#L344-L355\n",
            "2024-09-19 08:42:06.018661: I external/local_xla/xla/stream_executor/cuda/cuda_executor.cc:901] successful NUMA node read from SysFS had negative value (-1), but there must be at least one NUMA node, so returning NUMA node zero. See more at https://github.com/torvalds/linux/blob/v6.0/Documentation/ABI/testing/sysfs-bus-pci#L344-L355\n",
            "2024-09-19 08:42:08.092200: I external/local_xla/xla/stream_executor/cuda/cuda_executor.cc:901] successful NUMA node read from SysFS had negative value (-1), but there must be at least one NUMA node, so returning NUMA node zero. See more at https://github.com/torvalds/linux/blob/v6.0/Documentation/ABI/testing/sysfs-bus-pci#L344-L355\n",
            "2024-09-19 08:42:08.092343: I external/local_xla/xla/stream_executor/cuda/cuda_executor.cc:901] successful NUMA node read from SysFS had negative value (-1), but there must be at least one NUMA node, so returning NUMA node zero. See more at https://github.com/torvalds/linux/blob/v6.0/Documentation/ABI/testing/sysfs-bus-pci#L344-L355\n",
            "2024-09-19 08:42:08.092440: I external/local_xla/xla/stream_executor/cuda/cuda_executor.cc:901] successful NUMA node read from SysFS had negative value (-1), but there must be at least one NUMA node, so returning NUMA node zero. See more at https://github.com/torvalds/linux/blob/v6.0/Documentation/ABI/testing/sysfs-bus-pci#L344-L355\n",
            "2024-09-19 08:42:08.092514: I tensorflow/core/common_runtime/gpu/gpu_device.cc:1929] Created device /job:localhost/replica:0/task:0/device:GPU:0 with 14223 MB memory:  -> device: 0, name: NVIDIA RTX A4000, pci bus id: 0000:00:05.0, compute capability: 8.6\n"
          ]
        }
      ],
      "source": [
        "import tensorflow as tf\n",
        "from tensorflow.keras.applications.resnet import preprocess_input\n",
        "\n",
        "\n",
        "(train_images, train_labels), (test_images, test_labels) = tf.keras.datasets.cifar10.load_data()\n",
        "\n",
        "\n",
        "batch_size = 32\n",
        "\n",
        "\n",
        "def preprocess(image, label):\n",
        "    image = tf.cast(image, tf.float32)\n",
        "    image = tf.image.resize(image, (224, 224))\n",
        "    image = preprocess_input(image)\n",
        "    return image, label\n",
        "train_dataset = tf.data.Dataset.from_tensor_slices((train_images, train_labels))\n",
        "test_dataset = tf.data.Dataset.from_tensor_slices((test_images, test_labels))\n",
        "\n",
        "train_dataset = (train_dataset\n",
        "                 .map(lambda x, y: preprocess(x, y))\n",
        "                 .shuffle(buffer_size=10000)\n",
        "                 .batch(batch_size)\n",
        "                 .prefetch(1))\n",
        "test_dataset = (test_dataset\n",
        "                .map(lambda x, y: preprocess(x, y))\n",
        "                .batch(batch_size)\n",
        "                .prefetch(1))"
      ]
    },
    {
      "cell_type": "code",
      "execution_count": null,
      "metadata": {
        "id": "1twaWy86b11v"
      },
      "outputs": [],
      "source": [
        "base_model = keras.applications.ResNet152(weights=\"imagenet\",include_top=False)\n",
        "base_model.trainable = False\n",
        "X = keras.layers.Input(shape=(224,224,3))\n",
        "x = base_model(X,training=False)\n",
        "avg = keras.layers.GlobalAveragePooling2D()(base_model.output)\n",
        "x = keras.layers.Dropout(0.5)(avg)\n",
        "output = keras.layers.Dense(10, activation=\"softmax\")(x)\n",
        "model = keras.Model(inputs=base_model.input,outputs=output)"
      ]
    },
    {
      "cell_type": "code",
      "execution_count": null,
      "metadata": {
        "colab": {
          "base_uri": "https://localhost:8080/",
          "height": 356
        },
        "id": "CE59KUXxcCxQ",
        "outputId": "b619cc82-15e7-420e-ecac-270b5a4c29ab"
      },
      "outputs": [
        {
          "name": "stdout",
          "output_type": "stream",
          "text": [
            "Epoch 1/5\n",
            "1563/1563 [==============================] - ETA: 0s - loss: 1.7845 - accuracy: 0.8339\n",
            "Epoch 1: val_loss improved from inf to 1.52440, saving model to best_model.weights.h5\n",
            "1563/1563 [==============================] - 231s 141ms/step - loss: 1.7845 - accuracy: 0.8339 - val_loss: 1.5244 - val_accuracy: 0.8788\n",
            "Epoch 2/5\n",
            "1563/1563 [==============================] - ETA: 0s - loss: 2.0809 - accuracy: 0.8606\n",
            "Epoch 2: val_loss improved from 1.52440 to 1.40020, saving model to best_model.weights.h5\n",
            "1563/1563 [==============================] - 217s 136ms/step - loss: 2.0809 - accuracy: 0.8606 - val_loss: 1.4002 - val_accuracy: 0.8985\n",
            "Epoch 3/5\n",
            "1563/1563 [==============================] - ETA: 0s - loss: 2.1466 - accuracy: 0.8657\n",
            "Epoch 3: val_loss did not improve from 1.40020\n",
            "1563/1563 [==============================] - 211s 132ms/step - loss: 2.1466 - accuracy: 0.8657 - val_loss: 1.4448 - val_accuracy: 0.9006\n",
            "Epoch 4/5\n",
            "1563/1563 [==============================] - ETA: 0s - loss: 2.2281 - accuracy: 0.8681\n",
            "Epoch 4: val_loss improved from 1.40020 to 1.38019, saving model to best_model.weights.h5\n",
            "1563/1563 [==============================] - 211s 133ms/step - loss: 2.2281 - accuracy: 0.8681 - val_loss: 1.3802 - val_accuracy: 0.9106\n",
            "Epoch 5/5\n",
            "1563/1563 [==============================] - ETA: 0s - loss: 2.2800 - accuracy: 0.8703\n",
            "Epoch 5: val_loss did not improve from 1.38019\n",
            "1563/1563 [==============================] - 210s 132ms/step - loss: 2.2800 - accuracy: 0.8703 - val_loss: 1.4497 - val_accuracy: 0.9056\n"
          ]
        }
      ],
      "source": [
        "optimizer = keras.optimizers.Adam(learning_rate=0.01,weight_decay=0.01)\n",
        "model.compile(loss=\"sparse_categorical_crossentropy\",optimizer=optimizer,metrics=[\"accuracy\"])\n",
        "early = keras.callbacks.EarlyStopping(patience=5,restore_best_weights=True)\n",
        "checkpoint = keras.callbacks.ModelCheckpoint(\n",
        "    filepath='best_model.weights.h5',\n",
        "    monitor='val_loss',\n",
        "    save_best_only=True,\n",
        "    mode='min',\n",
        "    save_weights_only=True,\n",
        "    verbose=1\n",
        ")\n",
        "history = model.fit(train_dataset,epochs=5,validation_data=test_dataset,callbacks=[early,checkpoint])"
      ]
    },
    {
      "cell_type": "code",
      "execution_count": null,
      "metadata": {
        "id": "5SmChe75b_Wk"
      },
      "outputs": [],
      "source": [
        "model.load_weights(\"best_model.weights.h5\")"
      ]
    },
    {
      "cell_type": "code",
      "execution_count": null,
      "metadata": {
        "id": "jmNNYGOOd-X5",
        "outputId": "91dedbff-ac57-420b-8446-99b33d365821"
      },
      "outputs": [
        {
          "name": "stdout",
          "output_type": "stream",
          "text": [
            "313/313 [==============================] - 34s 108ms/step - loss: 1.3802 - accuracy: 0.9106\n"
          ]
        },
        {
          "data": {
            "text/plain": [
              "[1.3801923990249634, 0.9106000065803528]"
            ]
          },
          "execution_count": 10,
          "metadata": {},
          "output_type": "execute_result"
        }
      ],
      "source": [
        "model.evaluate(test_dataset)"
      ]
    }
  ],
  "metadata": {
    "accelerator": "GPU",
    "colab": {
      "gpuType": "T4",
      "machine_shape": "hm",
      "provenance": [],
      "include_colab_link": true
    },
    "kernelspec": {
      "display_name": "Python 3 (ipykernel)",
      "language": "python",
      "name": "python3"
    },
    "language_info": {
      "codemirror_mode": {
        "name": "ipython",
        "version": 3
      },
      "file_extension": ".py",
      "mimetype": "text/x-python",
      "name": "python",
      "nbconvert_exporter": "python",
      "pygments_lexer": "ipython3",
      "version": "3.11.7"
    }
  },
  "nbformat": 4,
  "nbformat_minor": 0
}