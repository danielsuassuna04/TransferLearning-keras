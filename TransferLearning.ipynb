{
  "cells": [
    {
      "cell_type": "markdown",
      "metadata": {
        "id": "view-in-github",
        "colab_type": "text"
      },
      "source": [
        "<a href=\"https://colab.research.google.com/github/danielsuassuna04/TransferLearning-keras/blob/main/TransferLearning.ipynb\" target=\"_parent\"><img src=\"https://colab.research.google.com/assets/colab-badge.svg\" alt=\"Open In Colab\"/></a>"
      ]
    },
    {
      "cell_type": "code",
      "execution_count": null,
      "metadata": {
        "colab": {
          "base_uri": "https://localhost:8080/"
        },
        "id": "IIkK7c9Yaw5I",
        "outputId": "e20b80a7-0318-45aa-a6e8-14d4be7b9eef"
      },
      "outputs": [
        {
          "name": "stderr",
          "output_type": "stream",
          "text": [
            "2024-09-19 23:27:29.567151: E external/local_xla/xla/stream_executor/cuda/cuda_dnn.cc:9261] Unable to register cuDNN factory: Attempting to register factory for plugin cuDNN when one has already been registered\n",
            "2024-09-19 23:27:29.567332: E external/local_xla/xla/stream_executor/cuda/cuda_fft.cc:607] Unable to register cuFFT factory: Attempting to register factory for plugin cuFFT when one has already been registered\n",
            "2024-09-19 23:27:29.667163: E external/local_xla/xla/stream_executor/cuda/cuda_blas.cc:1515] Unable to register cuBLAS factory: Attempting to register factory for plugin cuBLAS when one has already been registered\n",
            "2024-09-19 23:27:29.873018: I tensorflow/core/platform/cpu_feature_guard.cc:182] This TensorFlow binary is optimized to use available CPU instructions in performance-critical operations.\n",
            "To enable the following instructions: AVX2 FMA, in other operations, rebuild TensorFlow with the appropriate compiler flags.\n",
            "2024-09-19 23:27:31.751105: W tensorflow/compiler/tf2tensorrt/utils/py_utils.cc:38] TF-TRT Warning: Could not find TensorRT\n"
          ]
        }
      ],
      "source": [
        "import tensorflow as tf\n",
        "import tensorflow as tf\n",
        "from tensorflow import keras"
      ]
    },
    {
      "cell_type": "code",
      "execution_count": null,
      "metadata": {
        "colab": {
          "base_uri": "https://localhost:8080/"
        },
        "id": "EDg4MlHYbqCU",
        "outputId": "1615f88d-0c13-4e27-b3d4-3faceca8b92d"
      },
      "outputs": [
        {
          "name": "stderr",
          "output_type": "stream",
          "text": [
            "2024-09-19 23:27:37.389589: I external/local_xla/xla/stream_executor/cuda/cuda_executor.cc:901] successful NUMA node read from SysFS had negative value (-1), but there must be at least one NUMA node, so returning NUMA node zero. See more at https://github.com/torvalds/linux/blob/v6.0/Documentation/ABI/testing/sysfs-bus-pci#L344-L355\n",
            "2024-09-19 23:27:37.748287: I external/local_xla/xla/stream_executor/cuda/cuda_executor.cc:901] successful NUMA node read from SysFS had negative value (-1), but there must be at least one NUMA node, so returning NUMA node zero. See more at https://github.com/torvalds/linux/blob/v6.0/Documentation/ABI/testing/sysfs-bus-pci#L344-L355\n",
            "2024-09-19 23:27:37.748548: I external/local_xla/xla/stream_executor/cuda/cuda_executor.cc:901] successful NUMA node read from SysFS had negative value (-1), but there must be at least one NUMA node, so returning NUMA node zero. See more at https://github.com/torvalds/linux/blob/v6.0/Documentation/ABI/testing/sysfs-bus-pci#L344-L355\n",
            "2024-09-19 23:27:37.750854: I external/local_xla/xla/stream_executor/cuda/cuda_executor.cc:901] successful NUMA node read from SysFS had negative value (-1), but there must be at least one NUMA node, so returning NUMA node zero. See more at https://github.com/torvalds/linux/blob/v6.0/Documentation/ABI/testing/sysfs-bus-pci#L344-L355\n",
            "2024-09-19 23:27:37.751099: I external/local_xla/xla/stream_executor/cuda/cuda_executor.cc:901] successful NUMA node read from SysFS had negative value (-1), but there must be at least one NUMA node, so returning NUMA node zero. See more at https://github.com/torvalds/linux/blob/v6.0/Documentation/ABI/testing/sysfs-bus-pci#L344-L355\n",
            "2024-09-19 23:27:37.751239: I external/local_xla/xla/stream_executor/cuda/cuda_executor.cc:901] successful NUMA node read from SysFS had negative value (-1), but there must be at least one NUMA node, so returning NUMA node zero. See more at https://github.com/torvalds/linux/blob/v6.0/Documentation/ABI/testing/sysfs-bus-pci#L344-L355\n",
            "2024-09-19 23:27:40.399872: I external/local_xla/xla/stream_executor/cuda/cuda_executor.cc:901] successful NUMA node read from SysFS had negative value (-1), but there must be at least one NUMA node, so returning NUMA node zero. See more at https://github.com/torvalds/linux/blob/v6.0/Documentation/ABI/testing/sysfs-bus-pci#L344-L355\n",
            "2024-09-19 23:27:40.400117: I external/local_xla/xla/stream_executor/cuda/cuda_executor.cc:901] successful NUMA node read from SysFS had negative value (-1), but there must be at least one NUMA node, so returning NUMA node zero. See more at https://github.com/torvalds/linux/blob/v6.0/Documentation/ABI/testing/sysfs-bus-pci#L344-L355\n",
            "2024-09-19 23:27:40.400283: I external/local_xla/xla/stream_executor/cuda/cuda_executor.cc:901] successful NUMA node read from SysFS had negative value (-1), but there must be at least one NUMA node, so returning NUMA node zero. See more at https://github.com/torvalds/linux/blob/v6.0/Documentation/ABI/testing/sysfs-bus-pci#L344-L355\n",
            "2024-09-19 23:27:40.400410: I tensorflow/core/common_runtime/gpu/gpu_device.cc:1929] Created device /job:localhost/replica:0/task:0/device:GPU:0 with 14763 MB memory:  -> device: 0, name: Quadro RTX 5000, pci bus id: 0000:00:05.0, compute capability: 7.5\n"
          ]
        }
      ],
      "source": [
        "import tensorflow as tf\n",
        "from tensorflow.keras.applications.resnet import preprocess_input\n",
        "\n",
        "\n",
        "(train_images, train_labels), (test_images, test_labels) = tf.keras.datasets.cifar10.load_data()\n",
        "\n",
        "\n",
        "batch_size = 32\n",
        "\n",
        "\n",
        "def preprocess(image, label):\n",
        "    image = tf.cast(image, tf.float32)\n",
        "    image = tf.image.resize(image, (224, 224))\n",
        "    image = preprocess_input(image)\n",
        "    return image, label\n",
        "train_dataset = tf.data.Dataset.from_tensor_slices((train_images, train_labels))\n",
        "test_dataset = tf.data.Dataset.from_tensor_slices((test_images, test_labels))\n",
        "\n",
        "train_dataset = (train_dataset\n",
        "                 .map(lambda x, y: preprocess(x, y))\n",
        "                 .shuffle(buffer_size=10000)\n",
        "                 .batch(batch_size)\n",
        "                 .prefetch(1))\n",
        "test_dataset = (test_dataset\n",
        "                .map(lambda x, y: preprocess(x, y))\n",
        "                .batch(batch_size)\n",
        "                .prefetch(1))"
      ]
    },
    {
      "cell_type": "code",
      "execution_count": null,
      "metadata": {
        "id": "1twaWy86b11v"
      },
      "outputs": [],
      "source": [
        "base_model = keras.applications.ResNet152(weights=\"imagenet\",include_top=False)\n",
        "base_model.trainable = False\n",
        "inputs = keras.Input(shape=(224, 224, 3))\n",
        "x = base_model(inputs,training=False)\n",
        "avg = keras.layers.GlobalAveragePooling2D()(x)\n",
        "x = keras.layers.Dropout(0.5)(avg)\n",
        "output = keras.layers.Dense(10, activation=\"softmax\")(x)\n",
        "model = keras.Model(inputs=inputs,outputs=output)"
      ]
    },
    {
      "cell_type": "code",
      "execution_count": null,
      "metadata": {
        "colab": {
          "base_uri": "https://localhost:8080/",
          "height": 356
        },
        "id": "CE59KUXxcCxQ",
        "outputId": "b619cc82-15e7-420e-ecac-270b5a4c29ab"
      },
      "outputs": [
        {
          "name": "stdout",
          "output_type": "stream",
          "text": [
            "Epoch 1/5\n"
          ]
        },
        {
          "name": "stderr",
          "output_type": "stream",
          "text": [
            "2024-09-19 23:28:06.756775: I external/local_xla/xla/stream_executor/cuda/cuda_dnn.cc:454] Loaded cuDNN version 8907\n",
            "2024-09-19 23:28:11.375595: I external/local_xla/xla/service/service.cc:168] XLA service 0x7f7b3dfbfab0 initialized for platform CUDA (this does not guarantee that XLA will be used). Devices:\n",
            "2024-09-19 23:28:11.375648: I external/local_xla/xla/service/service.cc:176]   StreamExecutor device (0): Quadro RTX 5000, Compute Capability 7.5\n",
            "2024-09-19 23:28:11.396809: I tensorflow/compiler/mlir/tensorflow/utils/dump_mlir_util.cc:269] disabling MLIR crash reproducer, set env var `MLIR_CRASH_REPRODUCER_DIRECTORY` to enable.\n",
            "WARNING: All log messages before absl::InitializeLog() is called are written to STDERR\n",
            "I0000 00:00:1726788491.531028     545 device_compiler.h:186] Compiled cluster using XLA!  This line is logged at most once for the lifetime of the process.\n"
          ]
        },
        {
          "name": "stdout",
          "output_type": "stream",
          "text": [
            "1563/1563 [==============================] - ETA: 0s - loss: 1.7728 - accuracy: 0.8323\n",
            "Epoch 1: val_loss improved from inf to 1.24871, saving model to best_model.weights.h5\n",
            "1563/1563 [==============================] - 267s 156ms/step - loss: 1.7728 - accuracy: 0.8323 - val_loss: 1.2487 - val_accuracy: 0.8971\n",
            "Epoch 2/5\n",
            "1563/1563 [==============================] - ETA: 0s - loss: 2.0809 - accuracy: 0.8599\n",
            "Epoch 2: val_loss did not improve from 1.24871\n",
            "1563/1563 [==============================] - 241s 150ms/step - loss: 2.0809 - accuracy: 0.8599 - val_loss: 1.5233 - val_accuracy: 0.8945\n",
            "Epoch 3/5\n",
            "1563/1563 [==============================] - ETA: 0s - loss: 2.1734 - accuracy: 0.8665\n",
            "Epoch 3: val_loss did not improve from 1.24871\n",
            "1563/1563 [==============================] - 243s 152ms/step - loss: 2.1734 - accuracy: 0.8665 - val_loss: 1.4692 - val_accuracy: 0.8989\n",
            "Epoch 4/5\n",
            "1563/1563 [==============================] - ETA: 0s - loss: 2.2504 - accuracy: 0.8681\n",
            "Epoch 4: val_loss did not improve from 1.24871\n",
            "1563/1563 [==============================] - 240s 150ms/step - loss: 2.2504 - accuracy: 0.8681 - val_loss: 1.4791 - val_accuracy: 0.9020\n",
            "Epoch 5/5\n",
            "1563/1563 [==============================] - ETA: 0s - loss: 2.2227 - accuracy: 0.8690\n",
            "Epoch 5: val_loss did not improve from 1.24871\n",
            "1563/1563 [==============================] - 241s 151ms/step - loss: 2.2227 - accuracy: 0.8690 - val_loss: 1.4592 - val_accuracy: 0.9055\n"
          ]
        }
      ],
      "source": [
        "optimizer = keras.optimizers.Adam(learning_rate=0.01,weight_decay=0.01)\n",
        "model.compile(loss=\"sparse_categorical_crossentropy\",optimizer=optimizer,metrics=[\"accuracy\"])\n",
        "early = keras.callbacks.EarlyStopping(patience=5,restore_best_weights=True)\n",
        "checkpoint = keras.callbacks.ModelCheckpoint(\n",
        "    filepath='best_model.weights.h5',\n",
        "    monitor='val_loss',\n",
        "    save_best_only=True,\n",
        "    mode='min',\n",
        "    save_weights_only=True,\n",
        "    verbose=1\n",
        ")\n",
        "history = model.fit(train_dataset,epochs=5,validation_data=test_dataset,callbacks=[early,checkpoint])"
      ]
    },
    {
      "cell_type": "code",
      "execution_count": null,
      "metadata": {
        "id": "5SmChe75b_Wk"
      },
      "outputs": [],
      "source": [
        "model.load_weights(\"best_model.weights.h5\")"
      ]
    },
    {
      "cell_type": "code",
      "execution_count": null,
      "metadata": {
        "id": "jmNNYGOOd-X5",
        "outputId": "91dedbff-ac57-420b-8446-99b33d365821"
      },
      "outputs": [
        {
          "name": "stdout",
          "output_type": "stream",
          "text": [
            "313/313 [==============================] - 38s 123ms/step - loss: 1.2487 - accuracy: 0.8971\n"
          ]
        },
        {
          "data": {
            "text/plain": [
              "[1.2487115859985352, 0.8970999717712402]"
            ]
          },
          "execution_count": 6,
          "metadata": {},
          "output_type": "execute_result"
        }
      ],
      "source": [
        "model.evaluate(test_dataset)"
      ]
    },
    {
      "cell_type": "code",
      "execution_count": null,
      "metadata": {
        "id": "N6RMrDlZb_Wl",
        "outputId": "be87778d-a42e-4fe2-fe39-3568218501ce"
      },
      "outputs": [
        {
          "name": "stdout",
          "output_type": "stream",
          "text": [
            "Epoch 1/5\n",
            "1563/1563 [==============================] - ETA: 0s - loss: 1.3966 - accuracy: 0.8856\n",
            "Epoch 1: val_loss improved from inf to 0.90592, saving model to best_model_2.weights.h5\n",
            "1563/1563 [==============================] - 255s 155ms/step - loss: 1.3966 - accuracy: 0.8856 - val_loss: 0.9059 - val_accuracy: 0.9158\n",
            "Epoch 2/5\n",
            "1563/1563 [==============================] - ETA: 0s - loss: 1.2314 - accuracy: 0.8887\n",
            "Epoch 2: val_loss improved from 0.90592 to 0.79446, saving model to best_model_2.weights.h5\n",
            "1563/1563 [==============================] - 245s 153ms/step - loss: 1.2314 - accuracy: 0.8887 - val_loss: 0.7945 - val_accuracy: 0.9184\n",
            "Epoch 3/5\n",
            "1563/1563 [==============================] - ETA: 0s - loss: 1.1118 - accuracy: 0.8926\n",
            "Epoch 3: val_loss improved from 0.79446 to 0.75195, saving model to best_model_2.weights.h5\n",
            "1563/1563 [==============================] - 244s 153ms/step - loss: 1.1118 - accuracy: 0.8926 - val_loss: 0.7519 - val_accuracy: 0.9192\n",
            "Epoch 4/5\n",
            "1563/1563 [==============================] - ETA: 0s - loss: 1.0374 - accuracy: 0.8933\n",
            "Epoch 4: val_loss improved from 0.75195 to 0.69002, saving model to best_model_2.weights.h5\n",
            "1563/1563 [==============================] - 245s 153ms/step - loss: 1.0374 - accuracy: 0.8933 - val_loss: 0.6900 - val_accuracy: 0.9215\n",
            "Epoch 5/5\n",
            "1563/1563 [==============================] - ETA: 0s - loss: 0.9760 - accuracy: 0.8950\n",
            "Epoch 5: val_loss improved from 0.69002 to 0.67554, saving model to best_model_2.weights.h5\n",
            "1563/1563 [==============================] - 245s 153ms/step - loss: 0.9760 - accuracy: 0.8950 - val_loss: 0.6755 - val_accuracy: 0.9211\n"
          ]
        }
      ],
      "source": [
        "for layer in base_model.layers:\n",
        "    layer.trainable = True\n",
        "optimizer = keras.optimizers.Adam(learning_rate=0.0005)\n",
        "model.compile(loss=\"sparse_categorical_crossentropy\",optimizer=optimizer,metrics=[\"accuracy\"])\n",
        "early = keras.callbacks.EarlyStopping(patience=5,restore_best_weights=True)\n",
        "checkpoint = keras.callbacks.ModelCheckpoint(\n",
        "    filepath='best_model_2.weights.h5',\n",
        "    monitor='val_loss',\n",
        "    save_best_only=True,\n",
        "    mode='min',\n",
        "    save_weights_only=True,\n",
        "    verbose=1\n",
        ")\n",
        "history = model.fit(train_dataset,epochs=5,validation_data=test_dataset,callbacks=[early,checkpoint])"
      ]
    },
    {
      "cell_type": "code",
      "execution_count": null,
      "metadata": {
        "id": "bq8bCbBpdxhO"
      },
      "outputs": [],
      "source": [
        "model.load_weights(\"best_model_2.weights.h5\")"
      ]
    },
    {
      "cell_type": "code",
      "execution_count": null,
      "metadata": {
        "id": "aF7PjTn1dxhP",
        "outputId": "2faa4759-cbc1-489c-faf9-600572170a7d"
      },
      "outputs": [
        {
          "name": "stdout",
          "output_type": "stream",
          "text": [
            "313/313 [==============================] - 38s 122ms/step - loss: 0.6755 - accuracy: 0.9211\n"
          ]
        },
        {
          "data": {
            "text/plain": [
              "[0.6755410432815552, 0.9211000204086304]"
            ]
          },
          "execution_count": 11,
          "metadata": {},
          "output_type": "execute_result"
        }
      ],
      "source": [
        "model.evaluate(test_dataset)"
      ]
    },
    {
      "cell_type": "code",
      "execution_count": null,
      "metadata": {
        "id": "1qJBxyE1dxhP"
      },
      "outputs": [],
      "source": []
    }
  ],
  "metadata": {
    "accelerator": "GPU",
    "colab": {
      "gpuType": "T4",
      "machine_shape": "hm",
      "provenance": [],
      "include_colab_link": true
    },
    "kernelspec": {
      "display_name": "Python 3 (ipykernel)",
      "language": "python",
      "name": "python3"
    }
  },
  "nbformat": 4,
  "nbformat_minor": 0
}