{
  "cells": [
    {
      "cell_type": "markdown",
      "metadata": {
        "id": "view-in-github",
        "colab_type": "text"
      },
      "source": [
        "<a href=\"https://colab.research.google.com/github/danielsuassuna04/TransferLearning-keras/blob/main/TransferLearning.ipynb\" target=\"_parent\"><img src=\"https://colab.research.google.com/assets/colab-badge.svg\" alt=\"Open In Colab\"/></a>"
      ]
    },
    {
      "cell_type": "code",
      "execution_count": null,
      "metadata": {
        "colab": {
          "base_uri": "https://localhost:8080/"
        },
        "id": "IIkK7c9Yaw5I",
        "outputId": "e20b80a7-0318-45aa-a6e8-14d4be7b9eef"
      },
      "outputs": [
        {
          "name": "stderr",
          "output_type": "stream",
          "text": [
            "2024-09-18 17:10:44.061595: E external/local_xla/xla/stream_executor/cuda/cuda_dnn.cc:9261] Unable to register cuDNN factory: Attempting to register factory for plugin cuDNN when one has already been registered\n",
            "2024-09-18 17:10:44.061803: E external/local_xla/xla/stream_executor/cuda/cuda_fft.cc:607] Unable to register cuFFT factory: Attempting to register factory for plugin cuFFT when one has already been registered\n",
            "2024-09-18 17:10:44.182798: E external/local_xla/xla/stream_executor/cuda/cuda_blas.cc:1515] Unable to register cuBLAS factory: Attempting to register factory for plugin cuBLAS when one has already been registered\n",
            "2024-09-18 17:10:44.435082: I tensorflow/core/platform/cpu_feature_guard.cc:182] This TensorFlow binary is optimized to use available CPU instructions in performance-critical operations.\n",
            "To enable the following instructions: AVX2 FMA, in other operations, rebuild TensorFlow with the appropriate compiler flags.\n",
            "2024-09-18 17:10:47.037669: W tensorflow/compiler/tf2tensorrt/utils/py_utils.cc:38] TF-TRT Warning: Could not find TensorRT\n"
          ]
        }
      ],
      "source": [
        "import tensorflow as tf\n",
        "import tensorflow as tf\n",
        "from tensorflow import keras"
      ]
    },
    {
      "cell_type": "code",
      "execution_count": null,
      "metadata": {
        "colab": {
          "base_uri": "https://localhost:8080/"
        },
        "id": "EDg4MlHYbqCU",
        "outputId": "1615f88d-0c13-4e27-b3d4-3faceca8b92d"
      },
      "outputs": [
        {
          "name": "stderr",
          "output_type": "stream",
          "text": [
            "2024-09-18 17:10:53.557519: I external/local_xla/xla/stream_executor/cuda/cuda_executor.cc:901] successful NUMA node read from SysFS had negative value (-1), but there must be at least one NUMA node, so returning NUMA node zero. See more at https://github.com/torvalds/linux/blob/v6.0/Documentation/ABI/testing/sysfs-bus-pci#L344-L355\n",
            "2024-09-18 17:10:53.980292: I external/local_xla/xla/stream_executor/cuda/cuda_executor.cc:901] successful NUMA node read from SysFS had negative value (-1), but there must be at least one NUMA node, so returning NUMA node zero. See more at https://github.com/torvalds/linux/blob/v6.0/Documentation/ABI/testing/sysfs-bus-pci#L344-L355\n",
            "2024-09-18 17:10:53.980530: I external/local_xla/xla/stream_executor/cuda/cuda_executor.cc:901] successful NUMA node read from SysFS had negative value (-1), but there must be at least one NUMA node, so returning NUMA node zero. See more at https://github.com/torvalds/linux/blob/v6.0/Documentation/ABI/testing/sysfs-bus-pci#L344-L355\n",
            "2024-09-18 17:10:53.982700: I external/local_xla/xla/stream_executor/cuda/cuda_executor.cc:901] successful NUMA node read from SysFS had negative value (-1), but there must be at least one NUMA node, so returning NUMA node zero. See more at https://github.com/torvalds/linux/blob/v6.0/Documentation/ABI/testing/sysfs-bus-pci#L344-L355\n",
            "2024-09-18 17:10:53.982905: I external/local_xla/xla/stream_executor/cuda/cuda_executor.cc:901] successful NUMA node read from SysFS had negative value (-1), but there must be at least one NUMA node, so returning NUMA node zero. See more at https://github.com/torvalds/linux/blob/v6.0/Documentation/ABI/testing/sysfs-bus-pci#L344-L355\n",
            "2024-09-18 17:10:53.983073: I external/local_xla/xla/stream_executor/cuda/cuda_executor.cc:901] successful NUMA node read from SysFS had negative value (-1), but there must be at least one NUMA node, so returning NUMA node zero. See more at https://github.com/torvalds/linux/blob/v6.0/Documentation/ABI/testing/sysfs-bus-pci#L344-L355\n",
            "2024-09-18 17:10:56.870660: I external/local_xla/xla/stream_executor/cuda/cuda_executor.cc:901] successful NUMA node read from SysFS had negative value (-1), but there must be at least one NUMA node, so returning NUMA node zero. See more at https://github.com/torvalds/linux/blob/v6.0/Documentation/ABI/testing/sysfs-bus-pci#L344-L355\n",
            "2024-09-18 17:10:56.870945: I external/local_xla/xla/stream_executor/cuda/cuda_executor.cc:901] successful NUMA node read from SysFS had negative value (-1), but there must be at least one NUMA node, so returning NUMA node zero. See more at https://github.com/torvalds/linux/blob/v6.0/Documentation/ABI/testing/sysfs-bus-pci#L344-L355\n",
            "2024-09-18 17:10:56.871130: I external/local_xla/xla/stream_executor/cuda/cuda_executor.cc:901] successful NUMA node read from SysFS had negative value (-1), but there must be at least one NUMA node, so returning NUMA node zero. See more at https://github.com/torvalds/linux/blob/v6.0/Documentation/ABI/testing/sysfs-bus-pci#L344-L355\n",
            "2024-09-18 17:10:56.871256: I tensorflow/core/common_runtime/gpu/gpu_device.cc:1929] Created device /job:localhost/replica:0/task:0/device:GPU:0 with 15526 MB memory:  -> device: 0, name: Quadro P5000, pci bus id: 0000:00:05.0, compute capability: 6.1\n"
          ]
        }
      ],
      "source": [
        "import tensorflow as tf\n",
        "from tensorflow.keras.applications.resnet import preprocess_input\n",
        "\n",
        "\n",
        "(train_images, train_labels), (test_images, test_labels) = tf.keras.datasets.cifar10.load_data()\n",
        "\n",
        "\n",
        "batch_size = 32\n",
        "\n",
        "\n",
        "def preprocess(image, label):\n",
        "    image = tf.cast(image, tf.float32)\n",
        "    image = tf.image.resize(image, (224, 224))\n",
        "    image = preprocess_input(image)\n",
        "    return image, label\n",
        "train_dataset = tf.data.Dataset.from_tensor_slices((train_images, train_labels))\n",
        "test_dataset = tf.data.Dataset.from_tensor_slices((test_images, test_labels))\n",
        "\n",
        "train_dataset = (train_dataset\n",
        "                 .map(lambda x, y: preprocess(x, y))\n",
        "                 .shuffle(buffer_size=10000)\n",
        "                 .batch(batch_size)\n",
        "                 .prefetch(1))\n",
        "test_dataset = (test_dataset\n",
        "                .map(lambda x, y: preprocess(x, y))\n",
        "                .batch(batch_size)\n",
        "                .prefetch(1))"
      ]
    },
    {
      "cell_type": "code",
      "execution_count": null,
      "metadata": {
        "id": "1twaWy86b11v"
      },
      "outputs": [],
      "source": [
        "base_model = keras.applications.ResNet50(weights=\"imagenet\",include_top=False)\n",
        "\n",
        "avg = keras.layers.GlobalAveragePooling2D()(base_model.output)\n",
        "x = keras.layers.Dropout(0.5)(avg)\n",
        "output = keras.layers.Dense(10, activation=\"softmax\")(x)\n",
        "model = keras.Model(inputs=base_model.input,outputs=output)"
      ]
    },
    {
      "cell_type": "code",
      "execution_count": null,
      "metadata": {
        "id": "S700xd9Ib5a4"
      },
      "outputs": [],
      "source": [
        "for layers in base_model.layers:\n",
        "    layers.trainable = False"
      ]
    },
    {
      "cell_type": "code",
      "execution_count": null,
      "metadata": {
        "colab": {
          "base_uri": "https://localhost:8080/",
          "height": 356
        },
        "id": "CE59KUXxcCxQ",
        "outputId": "b619cc82-15e7-420e-ecac-270b5a4c29ab"
      },
      "outputs": [
        {
          "name": "stdout",
          "output_type": "stream",
          "text": [
            "Epoch 1/20\n"
          ]
        },
        {
          "name": "stderr",
          "output_type": "stream",
          "text": [
            "2024-09-18 17:11:14.571560: I tensorflow/core/kernels/data/shuffle_dataset_op.cc:422] ShuffleDatasetV3:3: Filling up shuffle buffer (this may take a while): 9914 of 10000\n",
            "2024-09-18 17:11:14.631260: I tensorflow/core/kernels/data/shuffle_dataset_op.cc:452] Shuffle buffer filled.\n",
            "2024-09-18 17:11:17.408959: I external/local_xla/xla/stream_executor/cuda/cuda_dnn.cc:454] Loaded cuDNN version 8907\n",
            "2024-09-18 17:11:23.213622: I external/local_xla/xla/service/service.cc:168] XLA service 0x7f26fcd783a0 initialized for platform CUDA (this does not guarantee that XLA will be used). Devices:\n",
            "2024-09-18 17:11:23.213715: I external/local_xla/xla/service/service.cc:176]   StreamExecutor device (0): Quadro P5000, Compute Capability 6.1\n",
            "2024-09-18 17:11:23.237978: I tensorflow/compiler/mlir/tensorflow/utils/dump_mlir_util.cc:269] disabling MLIR crash reproducer, set env var `MLIR_CRASH_REPRODUCER_DIRECTORY` to enable.\n"
          ]
        },
        {
          "name": "stdout",
          "output_type": "stream",
          "text": [
            "   1/1563 [..............................] - ETA: 9:44:32 - loss: 3.4834 - accuracy: 0.1562"
          ]
        },
        {
          "name": "stderr",
          "output_type": "stream",
          "text": [
            "WARNING: All log messages before absl::InitializeLog() is called are written to STDERR\n",
            "I0000 00:00:1726679483.424128    4400 device_compiler.h:186] Compiled cluster using XLA!  This line is logged at most once for the lifetime of the process.\n"
          ]
        },
        {
          "name": "stdout",
          "output_type": "stream",
          "text": [
            "1563/1563 [==============================] - ETA: 0s - loss: 1.9483 - accuracy: 0.7948\n",
            "Epoch 1: val_loss improved from inf to 1.72153, saving model to best_model.weights.h5\n",
            "1563/1563 [==============================] - 177s 99ms/step - loss: 1.9483 - accuracy: 0.7948 - val_loss: 1.7215 - val_accuracy: 0.8446\n",
            "Epoch 2/20\n"
          ]
        },
        {
          "name": "stderr",
          "output_type": "stream",
          "text": [
            "2024-09-18 17:14:08.115641: I tensorflow/core/kernels/data/shuffle_dataset_op.cc:422] ShuffleDatasetV3:3: Filling up shuffle buffer (this may take a while): 9072 of 10000\n"
          ]
        },
        {
          "name": "stdout",
          "output_type": "stream",
          "text": [
            "   2/1563 [..............................] - ETA: 2:09 - loss: 3.4304 - accuracy: 0.7969   "
          ]
        },
        {
          "name": "stderr",
          "output_type": "stream",
          "text": [
            "2024-09-18 17:14:09.025605: I tensorflow/core/kernels/data/shuffle_dataset_op.cc:452] Shuffle buffer filled.\n"
          ]
        },
        {
          "name": "stdout",
          "output_type": "stream",
          "text": [
            "1562/1563 [============================>.] - ETA: 0s - loss: 2.3798 - accuracy: 0.8215\n",
            "Epoch 2: val_loss improved from 1.72153 to 1.48961, saving model to best_model.weights.h5\n",
            "1563/1563 [==============================] - 164s 98ms/step - loss: 2.3793 - accuracy: 0.8216 - val_loss: 1.4896 - val_accuracy: 0.8766\n",
            "Epoch 3/20\n",
            "1562/1563 [============================>.] - ETA: 0s - loss: 2.4620 - accuracy: 0.8266\n",
            "Epoch 3: val_loss did not improve from 1.48961\n",
            "1563/1563 [==============================] - 159s 97ms/step - loss: 2.4614 - accuracy: 0.8266 - val_loss: 1.6303 - val_accuracy: 0.8796\n",
            "Epoch 4/20\n",
            "1562/1563 [============================>.] - ETA: 0s - loss: 2.4864 - accuracy: 0.8331\n",
            "Epoch 4: val_loss did not improve from 1.48961\n",
            "1563/1563 [==============================] - 160s 97ms/step - loss: 2.4865 - accuracy: 0.8331 - val_loss: 1.5516 - val_accuracy: 0.8777\n",
            "Epoch 5/20\n",
            "1562/1563 [============================>.] - ETA: 0s - loss: 2.5546 - accuracy: 0.8308\n",
            "Epoch 5: val_loss did not improve from 1.48961\n",
            "1563/1563 [==============================] - 174s 107ms/step - loss: 2.5546 - accuracy: 0.8308 - val_loss: 1.6558 - val_accuracy: 0.8788\n",
            "Epoch 6/20\n",
            "1562/1563 [============================>.] - ETA: 0s - loss: 2.5556 - accuracy: 0.8348\n",
            "Epoch 6: val_loss did not improve from 1.48961\n",
            "1563/1563 [==============================] - 157s 96ms/step - loss: 2.5550 - accuracy: 0.8348 - val_loss: 1.6043 - val_accuracy: 0.8773\n",
            "Epoch 7/20\n",
            "1562/1563 [============================>.] - ETA: 0s - loss: 2.5507 - accuracy: 0.8336\n",
            "Epoch 7: val_loss did not improve from 1.48961\n",
            "1563/1563 [==============================] - 156s 95ms/step - loss: 2.5501 - accuracy: 0.8336 - val_loss: 1.6453 - val_accuracy: 0.8779\n"
          ]
        }
      ],
      "source": [
        "optimizer = keras.optimizers.Adam(learning_rate=0.01,weight_decay=0.01)\n",
        "model.compile(loss=\"sparse_categorical_crossentropy\",optimizer=optimizer,metrics=[\"accuracy\"])\n",
        "early = keras.callbacks.EarlyStopping(patience=5,restore_best_weights=True)\n",
        "checkpoint = keras.callbacks.ModelCheckpoint(\n",
        "    filepath='best_model.weights.h5',\n",
        "    monitor='val_loss',\n",
        "    save_best_only=True,\n",
        "    mode='min',\n",
        "    save_weights_only=True,\n",
        "    verbose=1\n",
        ")\n",
        "history = model.fit(train_dataset,epochs=20,validation_data=test_dataset,callbacks=[early,checkpoint])"
      ]
    },
    {
      "cell_type": "code",
      "execution_count": null,
      "metadata": {
        "id": "yAzoRTwyNNIy"
      },
      "outputs": [],
      "source": [
        "model.load_weights(\"best_model.weights.h5\")"
      ]
    },
    {
      "cell_type": "code",
      "execution_count": null,
      "metadata": {
        "id": "jmNNYGOOd-X5",
        "outputId": "0777619d-dcbb-4af2-8798-a3bf4dc740d6"
      },
      "outputs": [
        {
          "name": "stdout",
          "output_type": "stream",
          "text": [
            "313/313 [==============================] - 24s 77ms/step - loss: 1.4896 - accuracy: 0.8766\n"
          ]
        },
        {
          "data": {
            "text/plain": [
              "[1.4896103143692017, 0.8766000270843506]"
            ]
          },
          "execution_count": 7,
          "metadata": {},
          "output_type": "execute_result"
        }
      ],
      "source": [
        "model.evaluate(test_dataset)"
      ]
    },
    {
      "cell_type": "code",
      "execution_count": null,
      "metadata": {
        "id": "ozwe0ekNNNIz"
      },
      "outputs": [],
      "source": []
    }
  ],
  "metadata": {
    "accelerator": "GPU",
    "colab": {
      "gpuType": "T4",
      "machine_shape": "hm",
      "provenance": [],
      "include_colab_link": true
    },
    "kernelspec": {
      "display_name": "Python 3 (ipykernel)",
      "language": "python",
      "name": "python3"
    },
    "language_info": {
      "codemirror_mode": {
        "name": "ipython",
        "version": 3
      },
      "file_extension": ".py",
      "mimetype": "text/x-python",
      "name": "python",
      "nbconvert_exporter": "python",
      "pygments_lexer": "ipython3",
      "version": "3.11.7"
    }
  },
  "nbformat": 4,
  "nbformat_minor": 0
}